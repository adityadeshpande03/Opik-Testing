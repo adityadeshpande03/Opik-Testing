{
  "cells": [
    {
      "cell_type": "markdown",
      "source": [
        "<img src=\"https://raw.githubusercontent.com/comet-ml/opik/main/apps/opik-documentation/documentation/static/img/opik-logo.svg\" width=\"250\"/>"
      ],
      "metadata": {
        "id": "9xROyQYP1DM9"
      }
    },
    {
      "cell_type": "markdown",
      "metadata": {
        "id": "6ScvGXUo3I80"
      },
      "source": [
        "# Tracking a Multi-step LLM Chain\n",
        "\n",
        "In this exercise, you'll track a multi-step LLM chain with Opik. You can use OpenAI or open source models via LiteLLM.\n",
        "\n",
        "If you have multiple steps in your LLM pipeline, you can use the `track` decorator to log the traces for each step. If OpenAI is called within one of these steps, the LLM call with be associated with that corresponding step:"
      ]
    },
    {
      "cell_type": "markdown",
      "source": [
        "# Imports & Configuration"
      ],
      "metadata": {
        "id": "2YJRuver_SmK"
      }
    },
    {
      "cell_type": "code",
      "source": [
        "%pip install opik google-genai --quiet"
      ],
      "metadata": {
        "id": "hZ6cxMoh3cpS",
        "outputId": "3b282539-ad6a-42ee-dd9e-b115f64f133b",
        "colab": {
          "base_uri": "https://localhost:8080/"
        }
      },
      "execution_count": 1,
      "outputs": [
        {
          "output_type": "stream",
          "name": "stdout",
          "text": [
            "\u001b[2K     \u001b[90m━━━━━━━━━━━━━━━━━━━━━━━━━━━━━━━━━━━━━━━━\u001b[0m \u001b[32m149.3/149.3 kB\u001b[0m \u001b[31m3.3 MB/s\u001b[0m eta \u001b[36m0:00:00\u001b[0m\n",
            "\u001b[2K   \u001b[90m━━━━━━━━━━━━━━━━━━━━━━━━━━━━━━━━━━━━━━━━\u001b[0m \u001b[32m418.0/418.0 kB\u001b[0m \u001b[31m14.6 MB/s\u001b[0m eta \u001b[36m0:00:00\u001b[0m\n",
            "\u001b[2K   \u001b[90m━━━━━━━━━━━━━━━━━━━━━━━━━━━━━━━━━━━━━━━━\u001b[0m \u001b[32m68.6/68.6 kB\u001b[0m \u001b[31m4.5 MB/s\u001b[0m eta \u001b[36m0:00:00\u001b[0m\n",
            "\u001b[2K   \u001b[90m━━━━━━━━━━━━━━━━━━━━━━━━━━━━━━━━━━━━━━━━\u001b[0m \u001b[32m161.7/161.7 kB\u001b[0m \u001b[31m3.8 MB/s\u001b[0m eta \u001b[36m0:00:00\u001b[0m\n",
            "\u001b[2K   \u001b[90m━━━━━━━━━━━━━━━━━━━━━━━━━━━━━━━━━━━━━━━━\u001b[0m \u001b[32m7.0/7.0 MB\u001b[0m \u001b[31m48.2 MB/s\u001b[0m eta \u001b[36m0:00:00\u001b[0m\n",
            "\u001b[2K   \u001b[90m━━━━━━━━━━━━━━━━━━━━━━━━━━━━━━━━━━━━━━━━\u001b[0m \u001b[32m3.1/3.1 MB\u001b[0m \u001b[31m41.2 MB/s\u001b[0m eta \u001b[36m0:00:00\u001b[0m\n",
            "\u001b[2K   \u001b[90m━━━━━━━━━━━━━━━━━━━━━━━━━━━━━━━━━━━━━━━━\u001b[0m \u001b[32m1.2/1.2 MB\u001b[0m \u001b[31m30.6 MB/s\u001b[0m eta \u001b[36m0:00:00\u001b[0m\n",
            "\u001b[2K   \u001b[90m━━━━━━━━━━━━━━━━━━━━━━━━━━━━━━━━━━━━━━━━\u001b[0m \u001b[32m65.4/65.4 kB\u001b[0m \u001b[31m4.7 MB/s\u001b[0m eta \u001b[36m0:00:00\u001b[0m\n",
            "\u001b[?25h"
          ]
        }
      ]
    },
    {
      "cell_type": "code",
      "source": [
        "from opik import track\n",
        "import opik\n",
        "from opik.integrations.genai import track_genai\n",
        "from google import genai\n",
        "import getpass\n",
        "import os\n",
        "\n",
        "os.environ[\"OPIK_PROJECT_NAME\"] = \"Multi-step-Chain-Demo\""
      ],
      "metadata": {
        "id": "Vhy3HZn63ce4"
      },
      "execution_count": 2,
      "outputs": []
    },
    {
      "cell_type": "code",
      "source": [
        "# opik configs\n",
        "if \"OPIK_API_KEY\" not in os.environ:\n",
        "    os.environ[\"OPIK_API_KEY\"] = getpass.getpass(\"Enter your Opik API key: \")\n",
        "\n",
        "opik.configure()"
      ],
      "metadata": {
        "id": "ThX2YArw3mda",
        "outputId": "49f0cf81-e5b9-4287-feeb-8a40f54a7bf1",
        "colab": {
          "base_uri": "https://localhost:8080/"
        }
      },
      "execution_count": 3,
      "outputs": [
        {
          "name": "stdout",
          "output_type": "stream",
          "text": [
            "Enter your Opik API key: ··········\n",
            "Do you want to use \"adityadeshpande03\" workspace? (Y/n)Y\n"
          ]
        },
        {
          "output_type": "stream",
          "name": "stderr",
          "text": [
            "OPIK: Configuration saved to file: /root/.opik.config\n"
          ]
        }
      ]
    },
    {
      "cell_type": "code",
      "source": [
        "# openai configs\n",
        "if \"GOOGLE_API_KEY\" not in os.environ:\n",
        "    os.environ[\"GOOGLE_API_KEY\"] = getpass.getpass(\"Enter your Google API key: \")\n",
        "client = genai.Client()\n",
        "gemini_client = track_genai(client)"
      ],
      "metadata": {
        "id": "T52NO_R73qb3",
        "outputId": "d1b6c6e3-b41f-4b4a-edfd-c8abfe1cb7d9",
        "colab": {
          "base_uri": "https://localhost:8080/"
        }
      },
      "execution_count": 4,
      "outputs": [
        {
          "name": "stdout",
          "output_type": "stream",
          "text": [
            "Enter your Google API key: ··········\n"
          ]
        }
      ]
    },
    {
      "cell_type": "markdown",
      "source": [
        "# Define First Step"
      ],
      "metadata": {
        "id": "rCOFr4Wd4Frj"
      }
    },
    {
      "cell_type": "code",
      "source": [
        "@track\n",
        "def generate_meal(ingredient):\n",
        "    prompt = f\"Generate one example of a meal that can be made with {ingredient}.\"\n",
        "    res = client.models.generate_content(model=\"gemini-2.0-flash\", contents=prompt)\n",
        "    return res.text"
      ],
      "metadata": {
        "id": "ZJToIZM6pR5v"
      },
      "execution_count": 9,
      "outputs": []
    },
    {
      "cell_type": "markdown",
      "source": [
        "# Define Second Step"
      ],
      "metadata": {
        "id": "M-1R6q7W4JnZ"
      }
    },
    {
      "cell_type": "code",
      "source": [
        "@track\n",
        "def generate_recipe(meal):\n",
        "    prompt = f\"Generate a step-by-step recipe for {meal}\"\n",
        "    res = client.models.generate_content(model=\"gemini-2.0-flash\", contents=prompt)\n",
        "    return res.text"
      ],
      "metadata": {
        "id": "Z_iBzyQgpvEo"
      },
      "execution_count": 10,
      "outputs": []
    },
    {
      "cell_type": "markdown",
      "source": [
        "# Call Chain"
      ],
      "metadata": {
        "id": "H_Wc5RDhCaJs"
      }
    },
    {
      "cell_type": "code",
      "source": [
        "@track\n",
        "def generate_recipe_from_ingredient(ingredient):\n",
        "    meal = generate_meal(ingredient)\n",
        "    story = generate_recipe(meal)\n",
        "    return story\n",
        "\n",
        "generate_recipe_from_ingredient(\"garlic\")"
      ],
      "metadata": {
        "id": "K6WmeCQ4p6js",
        "outputId": "a04b0848-bfde-4f5e-910e-3286daaa43f0",
        "colab": {
          "base_uri": "https://localhost:8080/",
          "height": 139
        }
      },
      "execution_count": 11,
      "outputs": [
        {
          "output_type": "execute_result",
          "data": {
            "text/plain": [
              "\"Okay, that's a great recipe! Here are a few additional suggestions that could enhance it even further:\\n\\n**Optional Enhancements & Variations:**\\n\\n*   **More Garlic Techniques:**  Instead of *just* mincing the garlic, consider these options for added depth:\\n    *   **Garlic Confit Oil:**  Cook garlic cloves slowly in olive oil over low heat until they're soft and spreadable. Use the oil from the confit for sautéing and stir in a tablespoon of the confit garlic itself towards the end for a richer, sweeter garlic flavor.  You can even make the confit in advance.\\n    *   **Roasted Garlic:** Roast a bulb of garlic until soft. Squeeze out the roasted cloves and mash them into a paste. Add a tablespoon of this to the sauce for a mellow, nutty garlic flavor.\\n\\n*   **Herbs Beyond Parsley:**  While parsley is classic, consider adding or substituting:\\n    *   **Chives:**  Their mild oniony flavor complements garlic well.\\n    *   **Basil:**  Provides a fresh, slightly sweet note.  Add it at the very end to preserve its flavor.\\n    *   **Oregano:**  A more robust herb that works well, especially if you're using red pepper flakes.\\n\\n*   **Add Vegetables:**  To make it a more complete meal, sauté some vegetables with the garlic:\\n    *   **Spinach:**  Wilted spinach adds nutrients and a subtle earthy flavor.\\n    *   **Asparagus:**  Chopped asparagus adds a nice texture and spring flavor.\\n    *   **Cherry Tomatoes:**  Halved cherry tomatoes add sweetness and acidity.\\n    *   **Sun-dried Tomatoes:** (Oil-packed) Offer an intense, chewy bite\\n\\n*   **Spice it Up (Beyond Red Pepper Flakes):**\\n    *   **Cayenne Pepper:**  For a more straightforward heat.\\n    *   **Smoked Paprika:**  Adds a smoky depth.\\n\\n*   **Cheese Variations:**\\n    *   **Pecorino Romano:** A sharper, saltier alternative to Parmesan.\\n    *   **Asiago:**  Offers a nutty flavor.\\n\\n*   **Lemony Zest:**  Grate some lemon zest along with the juice to intensify the citrus flavor.  Add it with the juice.\\n\\n*   **Deglazing Alternatives:** If you don't have white wine:\\n    *   **Dry Sherry:** Works surprisingly well.\\n    *   **Extra Chicken Broth:** Increase the broth and add a splash of white wine vinegar for acidity.\\n\\n*   **Shrimp Preparation Tips:**\\n    *   **Butterfly the Shrimp:**  Butterflying the shrimp before cooking helps them cook evenly and makes them look more impressive.\\n    *   **Pat Shrimp Dry:**  Patting the shrimp dry before adding them to the pan helps them brown better.\\n\\n*   **Serving Suggestions:**\\n    *   **Crusty Bread:** Serve with crusty bread for soaking up the delicious sauce.\\n    *   **Side Salad:**  A simple green salad with a vinaigrette dressing complements the richness of the scampi.\\n\\n**Example Recipe Incorporation (Combining Some of These):**\\n\\n**Garlic Shrimp Scampi with Linguine and Spinach**\\n\\n**Ingredients (Changes/Additions in Bold):**\\n\\n*   1 pound linguine pasta\\n*   1 pound large shrimp, peeled and deveined, **butterflied and patted dry**\\n*   6-8 cloves garlic, minced\\n*   1/4 cup olive oil\\n*   1/4 cup dry white wine (like Sauvignon Blanc or Pinot Grigio)\\n*   1/4 cup chicken broth (or vegetable broth)\\n*   2 tablespoons lemon juice **+ 1 teaspoon lemon zest**\\n*   4 tablespoons butter\\n*   2 tablespoons chopped fresh parsley\\n*   Red pepper flakes (optional, for a little heat)\\n*   Salt and black pepper to taste\\n*   Grated Parmesan cheese for serving\\n*   **5 ounces baby spinach**\\n\\n**Instructions (Changes/Additions in Bold):**\\n\\n1.  **Cook the Pasta:** Cook the linguine according to package directions until al dente. Reserve about 1/2 cup of pasta water before draining.\\n2.  **Sauté the Garlic:** While the pasta is cooking, heat the olive oil in a large skillet over medium heat. Add the minced garlic and red pepper flakes (if using) and cook, stirring frequently, until the garlic is fragrant and lightly golden (about 1-2 minutes). Be careful not to burn the garlic!\\n3.  **Cook the Shrimp:** Add the shrimp to the skillet and cook for 2-3 minutes per side, or until pink and cooked through. **Remove shrimp and set aside.**\\n4.  **Wilt the Spinach:**  Add the spinach to the skillet and cook until wilted, about 1-2 minutes.\\n5.  **Make the Sauce:** Pour in the white wine and chicken broth. Bring to a simmer and let it reduce slightly for about 2 minutes. Add the lemon juice **and lemon zest**, and butter, stirring until the butter is melted and the sauce is smooth.\\n6.  **Combine Everything:** Add the cooked linguine and **shrimp** to the skillet with the spinach and sauce. Toss to coat. If the sauce is too thick, add a little of the reserved pasta water to thin it out.\\n7.  **Serve:** Stir in the chopped parsley. Season with salt and pepper to taste. Serve immediately, topped with grated Parmesan cheese.\\n\\nBy incorporating some of these variations, you can tailor the dish to your specific preferences and create an even more delicious and memorable garlic shrimp scampi!\\n\""
            ],
            "application/vnd.google.colaboratory.intrinsic+json": {
              "type": "string"
            }
          },
          "metadata": {},
          "execution_count": 11
        }
      ]
    },
    {
      "cell_type": "markdown",
      "source": [
        "# Try with your own example!"
      ],
      "metadata": {
        "id": "4fRPxqyFq83h"
      }
    },
    {
      "cell_type": "code",
      "source": [
        "generate_recipe_from_ingredient(input(\"Enter an ingredient: \"))"
      ],
      "metadata": {
        "id": "SYgndLdprBQ3",
        "outputId": "321c22eb-3048-4945-dd3d-63c41174bbc8",
        "colab": {
          "base_uri": "https://localhost:8080/",
          "height": 157
        }
      },
      "execution_count": 12,
      "outputs": [
        {
          "name": "stdout",
          "output_type": "stream",
          "text": [
            "Enter an ingredient: Onion\n"
          ]
        },
        {
          "output_type": "execute_result",
          "data": {
            "text/plain": [
              "\"That's a fantastic and classic recipe for French Onion Soup! The instructions are clear, concise, and easy to follow. The inclusion of tips like being patient with caramelizing the onions and deglazing with wine elevates it. Excellent work!\\n\\nIf you'd like, I can offer some suggestions for variations or additions:\\n\\n*   **A touch of Sherry Vinegar:** A splash of sherry vinegar towards the end of the caramelization process can add a lovely tanginess.\\n*   **Garlic:** A clove or two of minced garlic added during the last few minutes of caramelizing the onions can add another layer of flavor.\\n*   **Brandy or Cognac:** Instead of or in addition to red wine, a tablespoon or two of brandy or cognac can add a richer, more complex flavor.\\n*   **Worcestershire Sauce:** A teaspoon of Worcestershire sauce can add umami and depth.\\n*   **Different Cheese:** While Gruyere is classic, other cheeses like Emmental, Provolone, or even a mix can be used.\\n*   **Garlic Bread Croutons:** Instead of plain toasted baguette, you can brush the slices with garlic-infused olive oil before toasting.\\n*   **Broth Options:**  Chicken broth can be used in combination with beef broth for a slightly lighter flavor.\\n\\nBut honestly, your recipe is perfect as is! It's a great starting point for anyone wanting to make a delicious and authentic French Onion Soup.\\n\""
            ],
            "application/vnd.google.colaboratory.intrinsic+json": {
              "type": "string"
            }
          },
          "metadata": {},
          "execution_count": 12
        }
      ]
    }
  ],
  "metadata": {
    "kernelspec": {
      "display_name": "comet-eval",
      "language": "python",
      "name": "python3"
    },
    "language_info": {
      "codemirror_mode": {
        "name": "ipython",
        "version": 3
      },
      "file_extension": ".py",
      "mimetype": "text/x-python",
      "name": "python",
      "nbconvert_exporter": "python",
      "pygments_lexer": "ipython3",
      "version": "3.10.15"
    },
    "colab": {
      "provenance": [],
      "collapsed_sections": [
        "2YJRuver_SmK",
        "rCOFr4Wd4Frj",
        "M-1R6q7W4JnZ",
        "H_Wc5RDhCaJs",
        "4fRPxqyFq83h"
      ]
    }
  },
  "nbformat": 4,
  "nbformat_minor": 0
}